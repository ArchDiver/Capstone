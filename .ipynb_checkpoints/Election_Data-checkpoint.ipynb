{
 "cells": [
  {
   "cell_type": "code",
   "execution_count": 15,
   "metadata": {},
   "outputs": [
    {
     "name": "stdout",
     "output_type": "stream",
     "text": [
      "Index(['BM', 'BF', 'BU', 'WM', 'WF', 'WU', 'APacM', 'APacF', 'APacU', 'HM',\n",
      "       'HF', 'HU', 'NM', 'NF', 'NU', 'OM', 'OF', 'OU', 'UNKNOWN MALE',\n",
      "       'UNKNOWN FEMALE', 'UNKNOWN', 'TOTAL VOTERS'],\n",
      "      dtype='object')\n",
      "           BM   BF  BU   WM   WF  WU  APacM  APacF  APacU  HM  ...  NM  NF  \\\n",
      "Precinct                                                       ...           \n",
      "1B         36   41   0  538  590   1      1      4      0   8  ...   1   0   \n",
      "1C          8   14   0  369  395   0      0      0      0   7  ...   0   0   \n",
      "2         624  818   0  314  407   0      5      2      0  28  ...   3   0   \n",
      "3A          0    1   0  141  154   0      0      0      0   1  ...   0   0   \n",
      "3A1         8    6   0  219  230   0      0      0      0   0  ...   0   0   \n",
      "3B         74   92   0   75   82   0      0      0      0   0  ...   0   0   \n",
      "3C         84  119   0  483  590   0      9      7      0   7  ...   0   0   \n",
      "4A          4    6   0  177  180   0      1      0      0   0  ...   0   0   \n",
      "4B          1    1   0  184  224   0      0      0      0   0  ...   1   0   \n",
      "4C          2    0   0  182  207   0      0      0      0   0  ...   0   0   \n",
      "4D         22   31   0  432  481   0      5      5      0  10  ...   0   0   \n",
      "5A         38   54   0  417  489   0      0      2      0   7  ...   0   0   \n",
      "5B         47   63   0  247  300   0      3      0      0   4  ...   1   0   \n",
      "5C          4    1   0  177  183   0      0      2      0   3  ...   0   0   \n",
      "88888       2    0   0    0    0   0      0      0      0   0  ...   0   0   \n",
      "\n",
      "          NU  OM  OF  OU  UNKNOWN MALE  UNKNOWN FEMALE  UNKNOWN  TOTAL VOTERS  \n",
      "Precinct                                                                       \n",
      "1B         0   4   2   0            15              12        0          1258  \n",
      "1C         0   1   1   0             6              11        0           815  \n",
      "2          0   9  10   0            32              19        0          2290  \n",
      "3A         0   0   0   0             1               2        0           301  \n",
      "3A1        0   0   1   0             8               9        0           482  \n",
      "3B         0   0   1   0             3               2        0           331  \n",
      "3C         0   2   4   0            14              15        0          1352  \n",
      "4A         0   1   1   0            10               6        0           388  \n",
      "4B         0   1   0   0             5               5        0           422  \n",
      "4C         0   2   1   0             7               7        0           409  \n",
      "4D         0   1   1   0            21               9        0          1031  \n",
      "5A         0   3   3   0            15              20        0          1066  \n",
      "5B         0   1   2   0            12               5        0           689  \n",
      "5C         0   0   0   0             2               6        0           381  \n",
      "88888      0   0   0   0             0               0        0             2  \n",
      "\n",
      "[15 rows x 22 columns]\n"
     ]
    }
   ],
   "source": [
    "import csv\n",
    "import numpy as np\n",
    "import pandas as pd\n",
    "\n",
    "def open_csv(filename, d = ','):\n",
    "    data = []\n",
    "    \n",
    "    with open(filename, encoding = 'uft-8') as mData:\n",
    "        info = csv.reader(mData, delimiter = d)\n",
    "        \n",
    "        for row in info:\n",
    "            data.append(row)\n",
    "        return data\n",
    "\n",
    "voter_cols = ['Precinct','BM','BF','BU','WM','WF','WU','APacM','APacF','APacU','HM','HF','HU','NM','NF','NU','OM','OF','OU','UNKNOWN MALE','UNKNOWN FEMALE','UNKNOWN','TOTAL VOTERS'\n",
    "]\n",
    "column_range = \"B,C,F,I,L,O,R,U,X,AA,AD,AG,AJ,AM, AP,AS, AV, AY, BB, BE,BH, BK,BN\"\n",
    "applingGA = pd.read_excel(r'./files/GA_November8_2016(CountyPrecinct)/APPLING.xlsx', header=None, names=voter_cols, index_col=0,  usecols=column_range, skiprows=3)\n",
    "print(applingGA.columns)\n",
    "print(applingGA)\n",
    "\n",
    "# applingGA[\"POC\"] = applingGA[]"
   ]
  }
 ],
 "metadata": {
  "kernelspec": {
   "display_name": "Python 3",
   "language": "python",
   "name": "python3"
  },
  "language_info": {
   "codemirror_mode": {
    "name": "ipython",
    "version": 3
   },
   "file_extension": ".py",
   "mimetype": "text/x-python",
   "name": "python",
   "nbconvert_exporter": "python",
   "pygments_lexer": "ipython3",
   "version": "3.7.6"
  }
 },
 "nbformat": 4,
 "nbformat_minor": 4
}
