{
 "cells": [
  {
   "cell_type": "code",
   "execution_count": 3,
   "metadata": {},
   "outputs": [
    {
     "data": {
      "text/plain": [
       "[]"
      ]
     },
     "execution_count": 3,
     "metadata": {},
     "output_type": "execute_result"
    }
   ],
   "source": [
    "import sys\n",
    "import csv\n",
    "import glob\n",
    "import pandas as pd\n",
    "\n",
    "# get data file names\n",
    "path =r'E:\\Dropbox (Personal)\\CodingDropbox\\Github\\1 codingtemple-july2020\\Capstone\\Elections\\files\\GA_November8_2016(CountyPrecinct)'\n",
    "filenames = glob.glob(path + \"/*.xlsx\")\n",
    "\n",
    "dfs = []\n",
    "for df in dfs: \n",
    "    xl_file = pd.ExcelFile(filenames)\n",
    "    df=xl_file.parse('Sheet1')\n",
    "    dfs.concat(df, ignore_index=True)\n",
    "dfs"
   ]
  }
 ],
 "metadata": {
  "kernelspec": {
   "display_name": "Python 3",
   "language": "python",
   "name": "python3"
  },
  "language_info": {
   "codemirror_mode": {
    "name": "ipython",
    "version": 3
   },
   "file_extension": ".py",
   "mimetype": "text/x-python",
   "name": "python",
   "nbconvert_exporter": "python",
   "pygments_lexer": "ipython3",
   "version": "3.7.6"
  }
 },
 "nbformat": 4,
 "nbformat_minor": 4
}
